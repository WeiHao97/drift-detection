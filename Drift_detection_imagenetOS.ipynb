{
 "cells": [
  {
   "cell_type": "markdown",
   "id": "a5c42104",
   "metadata": {},
   "source": [
    "# ImagenetOS"
   ]
  },
  {
   "cell_type": "code",
   "execution_count": 1,
   "id": "fca05126",
   "metadata": {},
   "outputs": [],
   "source": [
    "import torch, os\n",
    "import torch.nn as nn\n",
    "import torch.optim as optim\n",
    "import torchvision.datasets as datasets\n",
    "import torch.utils.data as data\n",
    "import torchvision.transforms as transforms\n",
    "import torchvision.models as models\n",
    "import numpy as np\n",
    "import random\n",
    "import torch.utils.data as torchdata\n",
    "from torch.utils.data import SubsetRandomSampler\n",
    "from train_model import train_model\n",
    "from test_model import test_model\n",
    "%matplotlib inline"
   ]
  },
  {
   "cell_type": "code",
   "execution_count": 2,
   "id": "c23ad24c",
   "metadata": {},
   "outputs": [],
   "source": [
    "import os\n",
    "os.environ[\"CUDA_VISIBLE_DEVICES\"]='3'"
   ]
  },
  {
   "cell_type": "markdown",
   "id": "1757c4b6",
   "metadata": {},
   "source": [
    "## Load Dataset"
   ]
  },
  {
   "cell_type": "code",
   "execution_count": 3,
   "id": "f2d4ad43",
   "metadata": {},
   "outputs": [],
   "source": [
    "def get_dataset(path='/database', dataset_name='imagenetOS/base/val'):\n",
    "    data_transforms = {\n",
    "        'train': transforms.Compose([\n",
    "            transforms.Resize([256, 256]),\n",
    "            transforms.RandomCrop(224),\n",
    "            transforms.RandomRotation(20),\n",
    "            transforms.RandomHorizontalFlip(0.5),\n",
    "            transforms.ToTensor(),\n",
    "            transforms.Normalize(mean=[0.485, 0.456, 0.406], std=[0.229, 0.224, 0.225])\n",
    "        ]),\n",
    "        'test': transforms.Compose([\n",
    "            transforms.Resize([224, 224]),\n",
    "            transforms.CenterCrop((224, 224)),\n",
    "            transforms.ToTensor(),\n",
    "            transforms.Normalize(mean=[0.485, 0.456, 0.406], std=[0.229, 0.224, 0.225])\n",
    "        ])\n",
    "    }\n",
    "\n",
    "    tr_dataset = datasets.ImageFolder(path + dataset_name, data_transforms['train'])\n",
    "    te_dataset = datasets.ImageFolder(path + dataset_name, data_transforms['test'])\n",
    "    print('{} train set size: {}'.format(dataset_name, len(tr_dataset)))\n",
    "    print('{} test set size: {}'.format(dataset_name, len(te_dataset)))\n",
    "\n",
    "    return tr_dataset, te_dataset"
   ]
  },
  {
   "cell_type": "code",
   "execution_count": 4,
   "id": "f297b1ed",
   "metadata": {},
   "outputs": [],
   "source": [
    "def split_dataset(train_dataset, test_dataset, valid_size=0.2, batch_size=128):\n",
    "    num_train = len(train_dataset)\n",
    "    indices = list(range(num_train))\n",
    "    split = int(np.floor(valid_size * num_train))\n",
    "    random.seed(10)\n",
    "    random.shuffle(indices)\n",
    "    train_idx, valid_idx, test_idx = indices[split*2:], indices[:split], indices[split:split*2]\n",
    "    train_sampler = SubsetRandomSampler(train_idx)\n",
    "    valid_sampler = SubsetRandomSampler(valid_idx)\n",
    "    test_sampler = SubsetRandomSampler(test_idx)\n",
    "\n",
    "    train_loader = torchdata.DataLoader(train_dataset, batch_size=batch_size, shuffle=False, num_workers=48, pin_memory=True, drop_last=True, sampler = train_sampler)\n",
    "    val_loader = torchdata.DataLoader(train_dataset, batch_size=batch_size, shuffle=False, num_workers=48, pin_memory=True, drop_last=True, sampler = valid_sampler)\n",
    "    test_loader = torchdata.DataLoader(train_dataset, batch_size=batch_size, shuffle=False, num_workers=48, pin_memory=True, drop_last=True, sampler = test_sampler)\n",
    "    dataloaders = {'train': train_loader,\n",
    "                   'val': val_loader,\n",
    "                   'test': test_loader}\n",
    "    dataset_sizes ={'train': int(np.floor((1-valid_size*2) * num_train)),\n",
    "                    'val': int(np.floor(valid_size * num_train)),\n",
    "                    'test': int(np.floor(valid_size * num_train))}\n",
    "    return dataloaders, dataset_sizes"
   ]
  },
  {
   "cell_type": "code",
   "execution_count": 5,
   "id": "0e35d8f4",
   "metadata": {},
   "outputs": [],
   "source": [
    "imagebase = '/local/rcs/ll3504/datasets/'"
   ]
  },
  {
   "cell_type": "code",
   "execution_count": 6,
   "id": "b30840f2",
   "metadata": {},
   "outputs": [],
   "source": [
    "def load_all_dataset(split=0.2, batch_size=128):\n",
    "    cities = ['base', 'New_York', 'California', 'Tibet', 'Beijing', 'New_South_Wales', 'United_Kingdom', 'Quebec']\n",
    "    dataloaders = {}\n",
    "    dataset_sizes = {}\n",
    "    for city in cities:\n",
    "        train_images, test_images = get_dataset(imagebase, 'imagenetOS/'+city+'/val/')\n",
    "        dataloader, dataset_size = split_dataset(train_images, test_images, split, batch_size)\n",
    "        dataloaders[city] = dataloader\n",
    "        dataset_sizes[city] = dataset_size\n",
    "    return dataloaders, dataset_sizes"
   ]
  },
  {
   "cell_type": "code",
   "execution_count": 7,
   "id": "9aec499f",
   "metadata": {},
   "outputs": [
    {
     "name": "stdout",
     "output_type": "stream",
     "text": [
      "imagenetOS/base/val/ train set size: 92600\n",
      "imagenetOS/base/val/ test set size: 92600\n",
      "imagenetOS/New_York/val/ train set size: 10201\n",
      "imagenetOS/New_York/val/ test set size: 10201\n",
      "imagenetOS/California/val/ train set size: 10201\n",
      "imagenetOS/California/val/ test set size: 10201\n",
      "imagenetOS/Tibet/val/ train set size: 10201\n",
      "imagenetOS/Tibet/val/ test set size: 10201\n",
      "imagenetOS/Beijing/val/ train set size: 10201\n",
      "imagenetOS/Beijing/val/ test set size: 10201\n",
      "imagenetOS/New_South_Wales/val/ train set size: 10201\n",
      "imagenetOS/New_South_Wales/val/ test set size: 10201\n",
      "imagenetOS/United_Kingdom/val/ train set size: 10201\n",
      "imagenetOS/United_Kingdom/val/ test set size: 10201\n",
      "imagenetOS/Quebec/val/ train set size: 10201\n",
      "imagenetOS/Quebec/val/ test set size: 10201\n"
     ]
    }
   ],
   "source": [
    "dataloaders, dataset_sizes = load_all_dataset(0.2, 128)"
   ]
  },
  {
   "cell_type": "markdown",
   "id": "68950ce3",
   "metadata": {},
   "source": [
    "## Finetuning models"
   ]
  },
  {
   "cell_type": "code",
   "execution_count": 8,
   "id": "4c578086",
   "metadata": {},
   "outputs": [],
   "source": [
    "#Load Resnet50\n",
    "model = models.resnet50(True)\n",
    "#Finetune Final few layers to adjust for tiny imagenet input\n",
    "model.avgpool = nn.AdaptiveAvgPool2d(1)\n",
    "model.fc = nn.Linear(2048, 201)\n",
    "device = torch.device(\"cuda\" if torch.cuda.is_available() else \"cpu\")\n",
    "model = model.to(device)\n",
    "\n",
    "#Loss Function\n",
    "criterion = nn.CrossEntropyLoss()\n",
    "# Observe that all parameters are being optimized\n",
    "optimizer = optim.SGD(model.parameters(), lr=0.001, momentum=0.9)"
   ]
  },
  {
   "cell_type": "code",
   "execution_count": 9,
   "id": "6b07cb7f",
   "metadata": {},
   "outputs": [
    {
     "name": "stdout",
     "output_type": "stream",
     "text": [
      "Epoch 1/10\n",
      "----------\n",
      "Iteration: 144/144, Loss: 182.29713439941406.Train Loss: 3.1850 Acc: 0.5391\n",
      "Val Loss: 1.4693 Acc: 0.7754\n",
      "\n",
      "Epoch 2/10\n",
      "----------\n",
      "Iteration: 144/144, Loss: 106.84004974365234.Train Loss: 1.0879 Acc: 0.8140\n",
      "Val Loss: 0.7957 Acc: 0.8343\n",
      "\n",
      "Epoch 3/10\n",
      "----------\n",
      "Iteration: 144/144, Loss: 78.32205963134766..Train Loss: 0.7023 Acc: 0.8536\n",
      "Val Loss: 0.6125 Acc: 0.8532\n",
      "\n",
      "Epoch 4/10\n",
      "----------\n",
      "Iteration: 144/144, Loss: 80.29058074951172..Train Loss: 0.5514 Acc: 0.8747\n",
      "Val Loss: 0.5319 Acc: 0.8629\n",
      "\n",
      "Epoch 5/10\n",
      "----------\n",
      "Iteration: 144/144, Loss: 82.88539123535156..Train Loss: 0.4683 Acc: 0.8874\n",
      "Val Loss: 0.4855 Acc: 0.8670\n",
      "\n",
      "Epoch 6/10\n",
      "----------\n",
      "Iteration: 144/144, Loss: 62.58845138549805..Train Loss: 0.4104 Acc: 0.8976\n",
      "Val Loss: 0.4645 Acc: 0.8694\n",
      "\n",
      "Epoch 7/10\n",
      "----------\n",
      "Iteration: 144/144, Loss: 41.00949478149414..Train Loss: 0.3646 Acc: 0.9068\n",
      "Val Loss: 0.4446 Acc: 0.8733\n",
      "\n",
      "Epoch 8/10\n",
      "----------\n",
      "Iteration: 144/144, Loss: 70.35311126708984..Train Loss: 0.3308 Acc: 0.9152\n",
      "Val Loss: 0.4323 Acc: 0.8740\n",
      "\n",
      "Epoch 9/10\n",
      "----------\n",
      "Iteration: 144/144, Loss: 34.102569580078125.Train Loss: 0.2979 Acc: 0.9219\n",
      "Val Loss: 0.4218 Acc: 0.8754\n",
      "\n",
      "Epoch 10/10\n",
      "----------\n",
      "Iteration: 144/144, Loss: 62.13866424560547..Train Loss: 0.2714 Acc: 0.9298\n",
      "Val Loss: 0.4147 Acc: 0.8751\n",
      "\n",
      "log_loss: [3.1849589488590424, 1.0878578842415751, 0.702323676219855, 0.5514481523896911, 0.46831566829145854, 0.410426380515871, 0.36455098056724555, 0.3308490752830533, 0.29787218057482767, 0.2714213229839196]\n",
      "val_log_loss: [1.46930163653314, 0.7956664746574913, 0.6124595386678148, 0.5319242296157078, 0.4854853941091451, 0.4644940872686728, 0.44463190301190697, 0.4323437008950417, 0.42179247359735145, 0.41468525581689425]\n",
      "accuracy: [array(0.53912887), array(0.81398488), array(0.85361771), array(0.87471202), array(0.88738301), array(0.89758819), array(0.90678546), array(0.91520878), array(0.92190425), array(0.92975162)]\n",
      "val_accuracy: [array(0.77543197), array(0.83428726), array(0.85323974), array(0.86285097), array(0.86695464), array(0.86943844), array(0.87327214), array(0.87397408), array(0.87543197), array(0.87510799)]\n"
     ]
    },
    {
     "data": {
      "image/png": "[encoded data removed]",
      "text/plain": [
       "<Figure size 432x288 with 1 Axes>"
      ]
     },
     "metadata": {
      "needs_background": "light"
     },
     "output_type": "display_data"
    },
    {
     "name": "stdout",
     "output_type": "stream",
     "text": [
      "Training complete in 37m 48s\n",
      "Best Validation Accuracy: 0.8754319654427646, Epoch: 9\n"
     ]
    }
   ],
   "source": [
    "#Train\n",
    "train_model(\"imagenetOS_base\", model, dataloaders['base'], dataset_sizes['base'], criterion, optimizer, num_epochs=10)"
   ]
  },
  {
   "cell_type": "markdown",
   "id": "4c9e2f93",
   "metadata": {},
   "source": [
    "## Evaluate Models"
   ]
  },
  {
   "cell_type": "code",
   "execution_count": 11,
   "id": "beb6cce6",
   "metadata": {},
   "outputs": [],
   "source": [
    "#Test Resnet50-224\n",
    "model_OS = models.resnet50()\n",
    "#Finetune Final few layers to adjust for tiny imagenet input\n",
    "model_OS.avgpool = nn.AdaptiveAvgPool2d(1)\n",
    "model_OS.fc = nn.Linear(2048, 201)\n",
    "device = torch.device(\"cuda\" if torch.cuda.is_available() else \"cpu\")\n",
    "model_OS.load_state_dict(torch.load('models/imagenetOS_base/model_10_epoch.pt'))\n",
    "model_OS = model_OS.to(device)\n",
    "\n",
    "#Loss Function\n",
    "criterion = nn.CrossEntropyLoss()\n",
    "# Observe that all parameters are being optimized\n",
    "optimizer = optim.SGD(model_OS.parameters(), lr=0.001, momentum=0.9)"
   ]
  },
  {
   "cell_type": "code",
   "execution_count": 12,
   "id": "d3e966ab",
   "metadata": {},
   "outputs": [],
   "source": [
    "def evaluate_models(model, dataloaders, dataset_sizes, criterion, optimizer):\n",
    "    cities = ['New_York', 'California', 'Tibet', 'Beijing', 'New_South_Wales', 'United_Kingdom', 'Quebec']\n",
    "    for city in cities:\n",
    "        print('Testing '+ city + '......')\n",
    "        test_model(model, dataloaders[city], dataset_sizes[city], criterion, optimizer)\n",
    "        print('Finish testing!\\n')"
   ]
  },
  {
   "cell_type": "code",
   "execution_count": 13,
   "id": "d8124d4e",
   "metadata": {},
   "outputs": [
    {
     "name": "stdout",
     "output_type": "stream",
     "text": [
      "Testing New_York......\n",
      "Iteration: 15/15, Loss: 65.06603240966797..\n",
      "Test Loss: 0.6756 Acc: 0.7534\n",
      "\n",
      "Test complete in 0m 6s\n",
      "Finish testing!\n",
      "\n",
      "Testing California......\n",
      "Iteration: 15/15, Loss: 109.66531372070312.\n",
      "Test Loss: 0.6868 Acc: 0.7510\n",
      "\n",
      "Test complete in 0m 6s\n",
      "Finish testing!\n",
      "\n",
      "Testing Tibet......\n",
      "Iteration: 15/15, Loss: 89.19581604003906..\n",
      "Test Loss: 0.5489 Acc: 0.7956\n",
      "\n",
      "Test complete in 0m 7s\n",
      "Finish testing!\n",
      "\n",
      "Testing Beijing......\n",
      "Iteration: 15/15, Loss: 94.46394348144531.\n",
      "Test Loss: 0.6330 Acc: 0.7750\n",
      "\n",
      "Test complete in 0m 6s\n",
      "Finish testing!\n",
      "\n",
      "Testing New_South_Wales......\n",
      "Iteration: 15/15, Loss: 113.697265625.156..\n",
      "Test Loss: 0.6645 Acc: 0.7603\n",
      "\n",
      "Test complete in 0m 6s\n",
      "Finish testing!\n",
      "\n",
      "Testing United_Kingdom......\n",
      "Iteration: 15/15, Loss: 66.34413146972656.\n",
      "Test Loss: 0.6431 Acc: 0.7627\n",
      "\n",
      "Test complete in 0m 6s\n",
      "Finish testing!\n",
      "\n",
      "Testing Quebec......\n",
      "Iteration: 15/15, Loss: 68.1668930053711..\n",
      "Test Loss: 0.6720 Acc: 0.7583\n",
      "\n",
      "Test complete in 0m 6s\n",
      "Finish testing!\n",
      "\n"
     ]
    }
   ],
   "source": [
    "evaluate_models(model_OS, dataloaders, dataset_sizes, criterion, optimizer)"
   ]
  },
  {
   "cell_type": "code",
   "execution_count": null,
   "id": "d9f655db",
   "metadata": {},
   "outputs": [],
   "source": []
  }
 ],
 "metadata": {
  "kernelspec": {
   "display_name": "Python 3 (ipykernel)",
   "language": "python",
   "name": "python3"
  },
  "language_info": {
   "codemirror_mode": {
    "name": "ipython",
    "version": 3
   },
   "file_extension": ".py",
   "mimetype": "text/x-python",
   "name": "python",
   "nbconvert_exporter": "python",
   "pygments_lexer": "ipython3",
   "version": "3.7.11"
  }
 },
 "nbformat": 4,
 "nbformat_minor": 5
}
