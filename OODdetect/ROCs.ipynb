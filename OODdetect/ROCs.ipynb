{
 "cells": [
  {
   "cell_type": "code",
   "execution_count": 19,
   "metadata": {},
   "outputs": [],
   "source": [
    "import os  \n",
    "os.environ[\"CUDA_VISIBLE_DEVICES\"]='3'\n",
    "import torch\n",
    "import torch.multiprocessing\n",
    "torch.multiprocessing.set_sharing_strategy('file_system')\n",
    "import torch.nn as nn\n",
    "import torch.optim as optim\n",
    "import torchvision.datasets as datasets\n",
    "import torch.utils.data as data\n",
    "import torchvision.transforms as transforms\n",
    "import torchvision.models as models\n",
    "import numpy as np\n",
    "import random\n",
    "random.seed(10)\n",
    "import torch.utils.data as torchdata\n",
    "from torch.utils.data import SubsetRandomSampler\n",
    "import sys\n",
    "sys.path.append('../')\n",
    "from utils import *\n",
    "from utils.model_utils import eval_model\n",
    "from utils.model_utils import train_model\n",
    "%matplotlib inline"
   ]
  },
  {
   "cell_type": "code",
   "execution_count": 20,
   "metadata": {},
   "outputs": [],
   "source": [
    "from utils.drift_detection import drift_detection\n",
    "from utils.k_means import kmeans\n",
    "from timeit import default_timer as timer\n",
    "from sklearn.decomposition import PCA\n",
    "from scipy.special import softmax\n",
    "from scipy.special import logsumexp\n",
    "from scipy.stats import chi2_contingency, ks_2samp, entropy\n",
    "from sklearn.metrics import roc_curve, auc\n",
    "from sklearn.metrics import roc_auc_score\n",
    "from utils.oodscores import *\n",
    "from tqdm import tqdm\n",
    "import matplotlib.pyplot as plt"
   ]
  },
  {
   "cell_type": "code",
   "execution_count": 21,
   "metadata": {},
   "outputs": [],
   "source": [
    "# from MALCOM import calculate_log as callog\n",
    "# from MALCOM import data_utils\n",
    "# from MALCOM import detectors\n",
    "# import MALCOM.detectors.detect_utils as detect_utils\n",
    "# from MALCOM import malcom"
   ]
  },
  {
   "cell_type": "code",
   "execution_count": 22,
   "metadata": {},
   "outputs": [],
   "source": [
    "torch.cuda.manual_seed(0)"
   ]
  },
  {
   "cell_type": "markdown",
   "metadata": {},
   "source": [
    "# ImageNet-C"
   ]
  },
  {
   "cell_type": "code",
   "execution_count": 23,
   "metadata": {},
   "outputs": [],
   "source": [
    "imagebase = '/local/rcs/ll3504/datasets/'"
   ]
  },
  {
   "cell_type": "code",
   "execution_count": 24,
   "metadata": {},
   "outputs": [],
   "source": [
    "#Create Dataset from ImageFolder, transforms applied\n",
    "def get_dataset(path='/database', dataset_name = '', transform = 'test' ,tag_with_drift = False, tag = 1):\n",
    "    data_transforms = {\n",
    "        'train': transforms.Compose([\n",
    "            transforms.Resize([256, 256]),\n",
    "            transforms.RandomCrop(224),\n",
    "            transforms.RandomRotation(20),\n",
    "            transforms.RandomHorizontalFlip(0.5),\n",
    "            transforms.ToTensor(),\n",
    "            transforms.Normalize(mean=[0.485, 0.456, 0.406], std=[0.229, 0.224, 0.225])\n",
    "        ]),\n",
    "        'test': transforms.Compose([\n",
    "            transforms.Resize([224, 224]),\n",
    "            transforms.CenterCrop((224, 224)),\n",
    "            transforms.ToTensor(),\n",
    "            transforms.Normalize(mean=[0.485, 0.456, 0.406], std=[0.229, 0.224, 0.225])\n",
    "        ])\n",
    "    }\n",
    "    dataset = datasets.ImageFolder(path + dataset_name + '/', data_transforms[transform])#only use test for now\n",
    "    \n",
    "    if tag_with_drift:\n",
    "        dataset.samples = [(d, tag) for d, s in dataset.samples]\n",
    "\n",
    "    return dataset"
   ]
  },
  {
   "cell_type": "code",
   "execution_count": 25,
   "metadata": {},
   "outputs": [],
   "source": [
    "def mixed_imagenetc(imagebase, datasplit ,level= 5,  batch_size=128, num_workers=24, tag_with_drift = False,drop_last= True):\n",
    "    corruption = ['zoom_blur', 'speckle_noise', 'spatter',\n",
    "                       'snow', 'glass_blur', 'motion_blur', 'saturate',\n",
    "                       'gaussian_blur', 'frost', 'fog', 'brightness', 'contrast',\n",
    "                       'elastic_transform', 'pixelate', 'jpeg_compression', 'defocus_blur']\n",
    "    \n",
    "    dataset_name = 'imagenetc/val'\n",
    "    imagenet_data = get_dataset(imagebase, dataset_name, tag_with_drift = tag_with_drift, tag = 0)\n",
    "    split = [ datasplit[0][0] + datasplit[0][1], 50000 - (datasplit[0][0] + datasplit[0][1]) ]\n",
    "    split = [ datasplit[0][0] + datasplit[0][1], 50000 - (datasplit[0][0] + datasplit[0][1]) ]\n",
    "    tmp_data, _ = torch.utils.data.random_split(imagenet_data, split , generator=torch.Generator().manual_seed(10))\n",
    "    ref_data, val_data = torch.utils.data.random_split(tmp_data, [datasplit[0][0],datasplit[0][1]]\n",
    "                                                         , generator=torch.Generator().manual_seed(10))\n",
    "    ref_dataloader = torch.utils.data.DataLoader(ref_data,\n",
    "                                              batch_size=batch_size,\n",
    "                                              shuffle=False,\n",
    "                                              num_workers=num_workers,drop_last=drop_last)\n",
    "    \n",
    "    val_dataloader = torch.utils.data.DataLoader(val_data,\n",
    "                                              batch_size=batch_size,\n",
    "                                              shuffle=False,\n",
    "                                              num_workers=num_workers,drop_last=drop_last)\n",
    "    corrupted_datasets= []\n",
    "    \n",
    "    for i in range(len(corruption)):\n",
    "        dataset_name = 'imagenetc/' + corruption[i] + '/' + str(level)\n",
    "        corr_test_images = get_dataset(imagebase, dataset_name, tag_with_drift = tag_with_drift, tag = 1)\n",
    "            \n",
    "        split = [ datasplit[i+1][0] + datasplit[i+1][1], 50000 - (datasplit[i+1][0] + datasplit[i+1][1]) ]\n",
    "        tmp_data, _ = torch.utils.data.random_split(corr_test_images,split, generator=torch.Generator().manual_seed(10))\n",
    "        \n",
    "        _, val_data = torch.utils.data.random_split(tmp_data, [datasplit[i+1][0],datasplit[i+1][1]], \n",
    "                                                    generator=torch.Generator().manual_seed(10))\n",
    "        corrupted_datasets.append(val_data)\n",
    "        \n",
    "    corrupted_datasets = torch.utils.data.ConcatDataset(corrupted_datasets)\n",
    "    return ref_dataloader, val_dataloader, corrupted_datasets, corruption"
   ]
  },
  {
   "cell_type": "code",
   "execution_count": 26,
   "metadata": {},
   "outputs": [],
   "source": [
    "batch_size = 1"
   ]
  },
  {
   "cell_type": "code",
   "execution_count": 40,
   "metadata": {},
   "outputs": [],
   "source": [
    "datasplit = [(1000,49000)] + [(0,50000) for i in range(16)]\n",
    "ref_dl, val_dl, corrupted_ds, _ = mixed_imagenetc(imagebase, datasplit, 3, tag_with_drift = False, batch_size=batch_size)\n",
    "corrupted_dl = torch.utils.data.DataLoader(corrupted_ds,shuffle=False,batch_size = batch_size , num_workers=48,drop_last= True)"
   ]
  },
  {
   "cell_type": "raw",
   "metadata": {},
   "source": [
    "# calclulate the ref_logists\n",
    "flag = True\n",
    "ref_logist = 0\n",
    "for inputs, labels in ref_dl:\n",
    "    inputs = inputs.to(device)\n",
    "    with torch.no_grad():\n",
    "        outputs = model(inputs).cpu()\n",
    "    torch.cuda.empty_cache()\n",
    "    if flag:\n",
    "        ref_logist = outputs\n",
    "        flag = False\n",
    "    else:\n",
    "        ref_logist = torch.cat((ref_logist,outputs),0)\n",
    "torch.save(ref_logist,'./ref_logists.pt')"
   ]
  },
  {
   "cell_type": "raw",
   "metadata": {},
   "source": [
    "flag = True\n",
    "for inputs, _ in val_dl:\n",
    "    inputs = inputs.to(device)\n",
    "    with torch.no_grad():\n",
    "        outputs = model(inputs).cpu()\n",
    "    if flag:\n",
    "        inoutputs = outputs[None,...]\n",
    "        flag = False\n",
    "    else:\n",
    "        inoutputs = torch.cat([inoutputs, outputs[None,...]], dim=0)\n",
    "        \n",
    "    torch.cuda.empty_cache()\n",
    "torch.save(inoutputs,'./' + str(batch_size)+'_iid_logists.pt')"
   ]
  },
  {
   "cell_type": "raw",
   "metadata": {},
   "source": [
    "flag = True\n",
    "corrupted_dl = torch.utils.data.DataLoader(corrupted_ds,shuffle=False,batch_size=batch_size, num_workers=48, drop_last = True)\n",
    "for inputs, _ in tqdm(corrupted_dl):\n",
    "    inputs = inputs.to(device)\n",
    "    with torch.no_grad():\n",
    "        outputs = model(inputs).cpu()\n",
    "    if flag:\n",
    "        outoutputs = outputs[None,...]\n",
    "        flag = False\n",
    "    else:\n",
    "        outoutputs = torch.cat([outoutputs, outputs[None,...]], dim=0)\n",
    "        \n",
    "    torch.cuda.empty_cache()\n",
    "torch.save(outoutputs,'./' + str(batch_size)+'__ood_logists.pt')"
   ]
  },
  {
   "cell_type": "code",
   "execution_count": 5,
   "metadata": {},
   "outputs": [],
   "source": [
    "ref_logist = torch.load('./ref_logists.pt')\n",
    "iid_logist = torch.load('./1_iid_logists.pt')\n",
    "ood_logist = torch.load('./1_ood_logists.pt')"
   ]
  },
  {
   "cell_type": "markdown",
   "metadata": {},
   "source": [
    "# Model"
   ]
  },
  {
   "cell_type": "code",
   "execution_count": 31,
   "metadata": {},
   "outputs": [
    {
     "name": "stderr",
     "output_type": "stream",
     "text": [
      "Using cache found in /home/wei.hao/.cache/torch/hub/pytorch_vision_v0.10.0\n"
     ]
    }
   ],
   "source": [
    "model = torch.hub.load('pytorch/vision:v0.10.0', 'resnet50', pretrained=True)\n",
    "# or any of these variants\n",
    "#model = torch.hub.load('pytorch/vision:v0.10.0', 'resnet18', pretrained=True)\n",
    "# model = torch.hub.load('pytorch/vision:v0.10.0', 'resnet50', pretrained=True)\n",
    "#model = torch.hub.load('pytorch/vision:v0.10.0', 'resnet101', pretrained=True)\n",
    "#model = torch.hub.load('pytorch/vision:v0.10.0', 'resnet152', pretrained=True)\n",
    "model.eval()\n",
    "\n",
    "device = torch.device(\"cuda\" if torch.cuda.is_available() else \"cpu\")\n",
    "model = model.to(device)\n",
    "\n",
    "criterion = nn.CrossEntropyLoss()\n",
    "\n",
    "# Observe that all parameters are being optimized\n",
    "optimizer_ft = torch.optim.SGD(model.parameters(), lr=0.001, momentum=0.9)\n",
    "\n",
    "# Decay LR by a factor of 0.1 every 7 epochs\n",
    "exp_lr_scheduler = torch.optim.lr_scheduler.StepLR(optimizer_ft, step_size=7, gamma=0.1)"
   ]
  },
  {
   "cell_type": "markdown",
   "metadata": {},
   "source": [
    "# ROC"
   ]
  },
  {
   "cell_type": "code",
   "execution_count": 114,
   "metadata": {},
   "outputs": [],
   "source": [
    "def mixed_imagenetc(imagebase, datasplit ,level= 5,  batch_size=128, num_workers=24, tag_with_drift = False,drop_last= True):\n",
    "    corruption = ['zoom_blur', 'speckle_noise', 'spatter',\n",
    "                       'snow', 'glass_blur', 'motion_blur', 'saturate',\n",
    "                       'gaussian_blur', 'frost', 'fog', 'brightness', 'contrast',\n",
    "                       'elastic_transform', 'pixelate', 'jpeg_compression', 'defocus_blur']\n",
    "    \n",
    "    dataset_name = 'imagenetc/val'\n",
    "    imagenet_data = get_dataset(imagebase, dataset_name, tag_with_drift = tag_with_drift, tag = 0)\n",
    "    split = [ datasplit[0][0] + datasplit[0][1], 50000 - (datasplit[0][0] + datasplit[0][1]) ]\n",
    "    tmp_data, _ = torch.utils.data.random_split(imagenet_data, split , generator=torch.Generator().manual_seed(10))\n",
    "    ref_data, val_data = torch.utils.data.random_split(tmp_data, [datasplit[0][0],datasplit[0][1]]\n",
    "                                                         , generator=torch.Generator().manual_seed(10))\n",
    "    ref_dataloader = torch.utils.data.DataLoader(ref_data,\n",
    "                                              batch_size=batch_size,\n",
    "                                              shuffle=False,\n",
    "                                              num_workers=num_workers,drop_last=drop_last)\n",
    "    corrupted_datasets= [val_data]\n",
    "    \n",
    "    for i in range(len(corruption)):\n",
    "        dataset_name = 'imagenetc/' + corruption[i] + '/' + str(level)\n",
    "        corr_test_images = get_dataset(imagebase, dataset_name, tag_with_drift = tag_with_drift, tag = 1)\n",
    "        \n",
    "        split = [ datasplit[i+1][0] + datasplit[i+1][1], 50000 - (datasplit[i+1][0] + datasplit[i+1][1]) ]\n",
    "        tmp_data, _ = torch.utils.data.random_split(corr_test_images,split, generator=torch.Generator().manual_seed(10))\n",
    "        \n",
    "        _, val_data = torch.utils.data.random_split(tmp_data, [datasplit[i+1][0],datasplit[i+1][1]], \n",
    "                                                    generator=torch.Generator().manual_seed(10))\n",
    "        corrupted_datasets.append(val_data)\n",
    "        \n",
    "    corrupted_datasets = torch.utils.data.ConcatDataset(corrupted_datasets)\n",
    "    return ref_dataloader, corrupted_datasets, ['no_corruption'] + corruption"
   ]
  },
  {
   "cell_type": "code",
   "execution_count": 115,
   "metadata": {},
   "outputs": [],
   "source": [
    "ref_dl, corrupted_ds, _ = mixed_imagenetc(imagebase, datasplit, 3, tag_with_drift = True)"
   ]
  },
  {
   "cell_type": "code",
   "execution_count": 116,
   "metadata": {},
   "outputs": [],
   "source": [
    "# calclulate the ref_logists\n",
    "flag = True\n",
    "ref_logist = 0\n",
    "for inputs, labels in ref_dl:\n",
    "    inputs = inputs.to(device)\n",
    "    with torch.no_grad():\n",
    "        outputs = model(inputs).cpu()\n",
    "    torch.cuda.empty_cache()\n",
    "    if flag:\n",
    "        ref_logist = outputs\n",
    "        flag = False\n",
    "    else:\n",
    "        ref_logist = torch.cat((ref_logist,outputs),0)"
   ]
  },
  {
   "cell_type": "code",
   "execution_count": 117,
   "metadata": {},
   "outputs": [],
   "source": [
    "## FNR = 1 - TPR,  we want this low , we want TPR high, which makes FPR@TPR95 a good metric and we want this low"
   ]
  },
  {
   "cell_type": "code",
   "execution_count": 118,
   "metadata": {},
   "outputs": [],
   "source": [
    "def confusion_matrix(dataloader, model, drift_detector, device):\n",
    "    labels = []\n",
    "    predicts = []\n",
    "    for inputs, y in dataloader:\n",
    "        inputs = inputs.to(device)\n",
    "        with torch.no_grad():\n",
    "            outputs = model(inputs).cpu()\n",
    "        torch.cuda.empty_cache()\n",
    "        result = drift_detector.get_result(outputs)\n",
    "        labels += y.tolist()\n",
    "        predicts += [result['is_drift']] * len(y)\n",
    "    \n",
    "    t_p = sum([1 if (predicts[i] == 1 and  labels[i] == 1) else 0 for i in range( len(labels))]  )\n",
    "    f_p = sum([1 if (predicts[i] == 1 and  labels[i] == 0) else 0 for i in range( len(labels))]  )\n",
    "    f_n = sum([1 if (predicts[i] == 0 and  labels[i] == 1) else 0 for i in range( len(labels))]  )\n",
    "    t_n = sum([1 if (predicts[i] == 0 and  labels[i] == 0) else 0 for i in range( len(labels))]  )\n",
    "        \n",
    "    return t_p, f_p, f_n, t_n"
   ]
  },
  {
   "cell_type": "code",
   "execution_count": null,
   "metadata": {},
   "outputs": [],
   "source": [
    "batch_sizes = [1,2,4,8,16,32,64,128,256,512]\n",
    "# Compute ROC curve and ROC area for each class\n",
    "fpr = []\n",
    "tpr = []\n",
    "roc_auc = []\n",
    "for batch_size in tqdm(batch_sizes):\n",
    "    full_loader = torch.utils.data.DataLoader(corrupted_ds,shuffle=False,batch_size=batch_size, num_workers=48,drop_last= True)\n",
    "    t_p, f_p, f_n, t_n = confusion_matrix(full_loader, model, detector, device)\n",
    "    fpr.append(f_p/ (f_p + t_n))\n",
    "    tpr.append(t_p/(t_p + f_n))\n",
    "    print(tpr, fpr)\n",
    "    torch.cuda.empty_cache()"
   ]
  },
  {
   "cell_type": "code",
   "execution_count": 13,
   "metadata": {},
   "outputs": [],
   "source": [
    "tpr = [0.28087875, 0.3115575, 0.449695, 0.64821, 0.8000980009800098, 0.8703187031870319, 0.903595179758988, 0.9252702851370678, 0.9606348825347295,0.9846380029403823]\n",
    "fpr = [0.05871428571428571, 0.050489795918367344, 0.04669387755102041, 0.04897959183673469, 0.04914285714285714, 0.04, 0.04130612244897959, 0.030857142857142857, 0.03346938775510204,0.01779591836734694]"
   ]
  },
  {
   "cell_type": "code",
   "execution_count": 145,
   "metadata": {},
   "outputs": [],
   "source": [
    "def confusion_matrix(iid_logist, ood_logist, detector,batch_size):\n",
    "    labels = []\n",
    "    predicts = []\n",
    "    for j in range(len(iid_logist)//batch_size):\n",
    "        result = detector.get_result(np.squeeze(iid_logist[j*batch_size:(j + 1)*batch_size], axis=1))\n",
    "        labels += [0 for i in range(batch_size)]\n",
    "        predicts += [result['is_drift'] for i in range(batch_size)]\n",
    "        \n",
    "    for j in range(len(ood_logist)//batch_size):\n",
    "        result = detector.get_result(np.squeeze(ood_logist[j*batch_size:(j + 1)*batch_size], axis=1))\n",
    "        labels += [1 for i in range(batch_size)]\n",
    "        predicts += [result['is_drift'] for i in range(batch_size)]\n",
    "    \n",
    "    t_p = sum([1 if (predicts[i] == 1 and  labels[i] == 1) else 0 for i in range( len(labels))]  )\n",
    "    f_p = sum([1 if (predicts[i] == 1 and  labels[i] == 0) else 0 for i in range( len(labels))]  )\n",
    "    f_n = sum([1 if (predicts[i] == 0 and  labels[i] == 1) else 0 for i in range( len(labels))]  )\n",
    "    t_n = sum([1 if (predicts[i] == 0 and  labels[i] == 0) else 0 for i in range( len(labels))]  )\n",
    "        \n",
    "    return t_p, f_p, f_n, t_n"
   ]
  },
  {
   "cell_type": "code",
   "execution_count": 144,
   "metadata": {},
   "outputs": [],
   "source": [
    "detector = drift_detection(ref_logist, 0.05, method='KSDrift',indicator = 'energy')"
   ]
  },
  {
   "cell_type": "code",
   "execution_count": 147,
   "metadata": {},
   "outputs": [
    {
     "name": "stderr",
     "output_type": "stream",
     "text": [
      " 10%|█         | 1/10 [08:54<1:20:10, 534.47s/it]"
     ]
    },
    {
     "name": "stdout",
     "output_type": "stream",
     "text": [
      "[0.32144125] [0.05679591836734694]\n"
     ]
    },
    {
     "name": "stderr",
     "output_type": "stream",
     "text": [
      "\r",
      " 20%|██        | 2/10 [13:13<49:41, 372.66s/it]  "
     ]
    },
    {
     "name": "stdout",
     "output_type": "stream",
     "text": [
      "[0.32144125, 0.363825] [0.05679591836734694, 0.057102040816326534]\n"
     ]
    },
    {
     "name": "stderr",
     "output_type": "stream",
     "text": [
      "\r",
      " 30%|███       | 3/10 [15:44<31:37, 271.11s/it]"
     ]
    },
    {
     "name": "stdout",
     "output_type": "stream",
     "text": [
      "[0.32144125, 0.363825, 0.52451] [0.05679591836734694, 0.057102040816326534, 0.04922448979591837]\n"
     ]
    },
    {
     "name": "stderr",
     "output_type": "stream",
     "text": [
      "\r",
      " 40%|████      | 4/10 [17:09<19:45, 197.64s/it]"
     ]
    },
    {
     "name": "stdout",
     "output_type": "stream",
     "text": [
      "[0.32144125, 0.363825, 0.52451, 0.70359] [0.05679591836734694, 0.057102040816326534, 0.04922448979591837, 0.04963265306122449]\n"
     ]
    },
    {
     "name": "stderr",
     "output_type": "stream",
     "text": [
      "\r",
      " 50%|█████     | 5/10 [17:55<11:55, 143.01s/it]"
     ]
    },
    {
     "name": "stdout",
     "output_type": "stream",
     "text": [
      "[0.32144125, 0.363825, 0.52451, 0.70359, 0.82774] [0.05679591836734694, 0.057102040816326534, 0.04922448979591837, 0.04963265306122449, 0.04866100587851078]\n"
     ]
    },
    {
     "name": "stderr",
     "output_type": "stream",
     "text": [
      "\r",
      " 60%|██████    | 6/10 [18:21<06:53, 103.42s/it]"
     ]
    },
    {
     "name": "stdout",
     "output_type": "stream",
     "text": [
      "[0.32144125, 0.363825, 0.52451, 0.70359, 0.82774, 0.88032] [0.05679591836734694, 0.057102040816326534, 0.04922448979591837, 0.04963265306122449, 0.04866100587851078, 0.04768125408229915]\n"
     ]
    },
    {
     "name": "stderr",
     "output_type": "stream",
     "text": [
      "\r",
      " 70%|███████   | 7/10 [18:40<03:47, 75.82s/it] "
     ]
    },
    {
     "name": "stdout",
     "output_type": "stream",
     "text": [
      "[0.32144125, 0.363825, 0.52451, 0.70359, 0.82774, 0.88032, 0.91312] [0.05679591836734694, 0.057102040816326534, 0.04922448979591837, 0.04963265306122449, 0.04866100587851078, 0.04768125408229915, 0.048366013071895426]\n"
     ]
    },
    {
     "name": "stderr",
     "output_type": "stream",
     "text": [
      "\r",
      " 80%|████████  | 8/10 [18:53<01:51, 55.73s/it]"
     ]
    },
    {
     "name": "stdout",
     "output_type": "stream",
     "text": [
      "[0.32144125, 0.363825, 0.52451, 0.70359, 0.82774, 0.88032, 0.91312, 0.9424] [0.05679591836734694, 0.057102040816326534, 0.04922448979591837, 0.04963265306122449, 0.04866100587851078, 0.04768125408229915, 0.048366013071895426, 0.04712041884816754]\n"
     ]
    },
    {
     "name": "stderr",
     "output_type": "stream",
     "text": [
      "\r",
      " 90%|█████████ | 9/10 [19:00<00:40, 40.45s/it]"
     ]
    },
    {
     "name": "stdout",
     "output_type": "stream",
     "text": [
      "[0.32144125, 0.363825, 0.52451, 0.70359, 0.82774, 0.88032, 0.91312, 0.9424, 0.97888] [0.05679591836734694, 0.057102040816326534, 0.04922448979591837, 0.04963265306122449, 0.04866100587851078, 0.04768125408229915, 0.048366013071895426, 0.04712041884816754, 0.03664921465968586]\n"
     ]
    },
    {
     "name": "stderr",
     "output_type": "stream",
     "text": [
      "100%|██████████| 10/10 [19:05<00:00, 114.54s/it]"
     ]
    },
    {
     "name": "stdout",
     "output_type": "stream",
     "text": [
      "[0.32144125, 0.363825, 0.52451, 0.70359, 0.82774, 0.88032, 0.91312, 0.9424, 0.97888, 0.9942381562099872] [0.05679591836734694, 0.057102040816326534, 0.04922448979591837, 0.04963265306122449, 0.04866100587851078, 0.04768125408229915, 0.048366013071895426, 0.04712041884816754, 0.03664921465968586, 0.0]\n"
     ]
    },
    {
     "name": "stderr",
     "output_type": "stream",
     "text": [
      "\n"
     ]
    }
   ],
   "source": [
    "batch_sizes = [1,2,4,8,16,32,64,128,256,512]\n",
    "# Compute ROC curve and ROC area for each class\n",
    "fpr = []\n",
    "tpr = []\n",
    "roc_auc = []\n",
    "for batch_size in tqdm(batch_sizes):\n",
    "    t_p, f_p, f_n, t_n = confusion_matrix(iid_logist, ood_logist, detector, batch_size)\n",
    "    fpr.append(f_p/ (f_p + t_n))\n",
    "    tpr.append(t_p/(t_p + f_n))\n",
    "    print(tpr, fpr)\n",
    "    torch.cuda.empty_cache()"
   ]
  },
  {
   "cell_type": "code",
   "execution_count": 171,
   "metadata": {},
   "outputs": [],
   "source": [
    "fpr = [0.05679591836734694, 0.057102040816326534, 0.04922448979591837, 0.04963265306122449, 0.04866100587851078, 0.04768125408229915, 0.048366013071895426, 0.04712041884816754, 0.03664921465968586, 0.0]\n",
    "tpr = [0.32144125, 0.363825, 0.52451, 0.70359, 0.82774, 0.88032, 0.91312, 0.9424, 0.97888, 0.9942381562099872]"
   ]
  },
  {
   "cell_type": "code",
   "execution_count": 183,
   "metadata": {},
   "outputs": [],
   "source": [
    "batch_sizes = [1,2,4,8,16,32,64,128,256,512]"
   ]
  },
  {
   "cell_type": "code",
   "execution_count": 185,
   "metadata": {},
   "outputs": [],
   "source": [
    "fpr_tpr = sorted(zip(fpr, tpr,batch_sizes), key=lambda x: x[0])\n",
    "fpr, tpr,batch_sizes = [list(tup) for tup in zip(*fpr_tpr)]\n",
    "#roc_auc = auc(fpr, tpr)"
   ]
  },
  {
   "cell_type": "code",
   "execution_count": 192,
   "metadata": {},
   "outputs": [
    {
     "data": {
      "image/png": "[encoded data removed]",
      "text/plain": [
       "<Figure size 432x288 with 1 Axes>"
      ]
     },
     "metadata": {
      "needs_background": "light"
     },
     "output_type": "display_data"
    }
   ],
   "source": [
    "import matplotlib.pyplot as plt\n",
    "\n",
    "y = tpr\n",
    "x = fpr\n",
    "colors = ['tab:blue','tab:orange','tab:green','tab:red','tab:purple','tab:brown','tab:pink','tab:gray','tab:olive','tab:cyan']\n",
    "\n",
    "fig, ax = plt.subplots()\n",
    "#plt.scatter(x, y)\n",
    "plt.xlabel(\"False Positive Rate\")\n",
    "plt.ylabel(\"True Positive Rate\")\n",
    "for i, txt in enumerate(batch_sizes):\n",
    "    ax.scatter(x[i], y[i], c=colors[i],alpha=0.3, s = 100,edgecolors='black')\n",
    "    plt.annotate(txt, (x[i], y[i]))\n",
    "plt.show()"
   ]
  },
  {
   "cell_type": "markdown",
   "metadata": {},
   "source": [
    "# Threshold method"
   ]
  },
  {
   "cell_type": "code",
   "execution_count": 44,
   "metadata": {},
   "outputs": [],
   "source": [
    "import torch.nn.functional as F\n",
    "from tqdm import tqdm\n",
    "import json\n",
    "concat = lambda x: np.concatenate(x, axis=0)"
   ]
  },
  {
   "cell_type": "code",
   "execution_count": 37,
   "metadata": {},
   "outputs": [],
   "source": [
    "indicators = ['uncertainty','MSP','energy']"
   ]
  },
  {
   "cell_type": "code",
   "execution_count": 16,
   "metadata": {},
   "outputs": [],
   "source": [
    "def ood_score(x, score, temperature = 1.):\n",
    "    # positives (ood) have higher scores\n",
    "    if score == 'MSP':\n",
    "        return -softmax(x, axis=-1).max(axis=-1)[0]\n",
    "    elif score == 'OE':\n",
    "        return x.mean(-1) - logsumexp(x, axis=-1)\n",
    "    elif score == 'energy':\n",
    "        return - temperature*logsumexp(x/temperature, axis=-1)\n",
    "\n",
    "    return entropy(softmax(x, axis=-1), axis=-1)"
   ]
  },
  {
   "cell_type": "code",
   "execution_count": 46,
   "metadata": {},
   "outputs": [
    {
     "name": "stdout",
     "output_type": "stream",
     "text": [
      "\t\t\tuncertainty\n",
      "FPR95:\t\t\t80.28\n",
      "AUROC:\t\t\t75.70\n",
      "AUPR:\t\t\t97.99\n",
      "None\n",
      "\t\t\tMSP\n",
      "FPR95:\t\t\t80.58\n",
      "AUROC:\t\t\t73.74\n",
      "AUPR:\t\t\t97.73\n",
      "None\n",
      "\t\t\tenergy\n",
      "FPR95:\t\t\t78.45\n",
      "AUROC:\t\t\t77.86\n",
      "AUPR:\t\t\t98.22\n",
      "None\n"
     ]
    }
   ],
   "source": [
    "th_fpr_tprs = {}\n",
    "th_roc_aucs = {}\n",
    "for i in range(len(indicators)):\n",
    "    inscore = []\n",
    "    outscore = []\n",
    "    for logist in iid_logist:\n",
    "        inscore.append(ood_score(logist, indicators[i], temperature = 1.))\n",
    "    for logist in ood_logist:\n",
    "        outscore.append(ood_score(logist, indicators[i], temperature = 1.))\n",
    "    \n",
    "    inscore = concat(inscore)\n",
    "    outscore = concat(outscore)\n",
    "    \n",
    "    print(show_performance(outscore, inscore, method_name=indicators[i]))\n",
    "    pos = np.array(outscore[:]).reshape((-1, 1))\n",
    "    neg = np.array(inscore[:]).reshape((-1, 1))\n",
    "    examples = np.squeeze(np.vstack((pos, neg)))\n",
    "    labels = np.zeros(len(examples), dtype=np.int32)\n",
    "    labels[:len(pos)] += 1\n",
    "    fpr, tpr, _ = roc_curve(labels, examples)\n",
    "    th_fpr_tprs[indicators[i]] = (fpr, tpr) \n",
    "    th_roc_aucs[indicators[i]] = auc(fpr, tpr)"
   ]
  },
  {
   "cell_type": "code",
   "execution_count": 91,
   "metadata": {},
   "outputs": [],
   "source": [
    "for k in th_fpr_tprs:\n",
    "    th_fpr_tprs[k] = (th_fpr_tprs[k][0].tolist(),th_fpr_tprs[k][1].tolist())\n",
    "with open('th_fpr_tprs.json', 'w') as fp:\n",
    "    json.dump(th_fpr_tprs, fp)"
   ]
  },
  {
   "cell_type": "code",
   "execution_count": 48,
   "metadata": {},
   "outputs": [],
   "source": [
    "with open('th_fpr_tprs.json', 'r') as fp:\n",
    "    th_fpr_tprs = json.load(fp)"
   ]
  },
  {
   "cell_type": "code",
   "execution_count": 49,
   "metadata": {},
   "outputs": [
    {
     "data": {
      "image/png": "[encoded data removed]",
      "text/plain": [
       "<Figure size 432x288 with 1 Axes>"
      ]
     },
     "metadata": {
      "needs_background": "light"
     },
     "output_type": "display_data"
    }
   ],
   "source": [
    "plt.figure()\n",
    "lw = 2\n",
    "for i in indicators:\n",
    "    plt.plot(\n",
    "        th_fpr_tprs[i][0],th_fpr_tprs[i][1],\n",
    "        lw=lw,\n",
    "        label=\"ROC curve for \" + i + \"(area = %0.2f)\" % th_roc_aucs[i],\n",
    "    )\n",
    "plt.plot([0, 1], [0, 1], color=\"navy\", lw=lw, linestyle=\"--\")\n",
    "plt.xlim([0.0, 1.0])\n",
    "plt.ylim([0.0, 1.05])\n",
    "plt.xlabel(\"False Positive Rate\")\n",
    "plt.ylabel(\"True Positive Rate\")\n",
    "plt.title(\"Receiver operating characteristic\")\n",
    "plt.legend(loc=\"lower right\")\n",
    "plt.show()"
   ]
  },
  {
   "cell_type": "markdown",
   "metadata": {},
   "source": [
    "# KS"
   ]
  },
  {
   "cell_type": "code",
   "execution_count": 112,
   "metadata": {},
   "outputs": [
    {
     "name": "stdout",
     "output_type": "stream",
     "text": [
      "\t\t\tuncertainty KStest(batchsize) = 128\n",
      "FPR95:\t\t\t11.26\n",
      "AUROC:\t\t\t98.00\n",
      "AUPR:\t\t\t99.88\n",
      "None\n",
      "fpr at tpr@92%: \n",
      "0.020942408376963352\n",
      "\t\t\tMSP KStest(batchsize) = 128\n",
      "FPR95:\t\t\t13.35\n",
      "AUROC:\t\t\t97.88\n",
      "AUPR:\t\t\t99.87\n",
      "None\n",
      "fpr at tpr@92%: \n",
      "0.028795811518324606\n",
      "\t\t\tenergy KStest(batchsize) = 128\n",
      "FPR95:\t\t\t7.33\n",
      "AUROC:\t\t\t98.42\n",
      "AUPR:\t\t\t99.90\n",
      "None\n",
      "fpr at tpr@92%: \n",
      "0.007853403141361256\n"
     ]
    }
   ],
   "source": [
    "batch_size = 128\n",
    "fpr_tprs = {}\n",
    "roc_aucs = {}\n",
    "for i in range(len(indicators)):\n",
    "    detector = drift_detection(ref_logist, 0.05, method='KSDrift',indicator = indicators[i], temperature = 1.)\n",
    "    inscore = []\n",
    "    outscore = []\n",
    "    for j in range(len(iid_logist)//batch_size):\n",
    "        result = detector.get_result(np.squeeze(iid_logist[j*batch_size:(j + 1)*batch_size], axis=1))\n",
    "        inscore += [result['p_val'] for j in range(batch_size)]\n",
    "        \n",
    "    for j in range(len(ood_logist)//batch_size):\n",
    "        result = detector.get_result(np.squeeze(ood_logist[j*batch_size:(j + 1)*batch_size], axis=1))\n",
    "        outscore += [result['p_val'] for j in range(batch_size)]\n",
    "        \n",
    "    print(show_performance([-1*j for j in outscore], [-1*j for j in inscore], \n",
    "                           method_name=indicators[i] + ' KStest(batchsize) = ' + str(batch_size)))\n",
    "    \n",
    "    pos = -1*np.array(outscore).reshape((-1, 1))\n",
    "    neg = -1*np.array(inscore).reshape((-1, 1))\n",
    "    examples = np.squeeze(np.vstack((pos, neg)))\n",
    "    labels = np.zeros(len(examples), dtype=np.int32)\n",
    "    labels[:len(pos)] += 1\n",
    "    fpr, tpr, _ = roc_curve(labels, examples)\n",
    "    fpr_tprs[indicators[i]] = (fpr, tpr) \n",
    "    roc_aucs[indicators[i]] = auc(fpr, tpr)\n",
    "    print(\"fpr at tpr@92%: \")\n",
    "    print(fpr_and_fdr_at_recall(labels, examples, 0.92))"
   ]
  },
  {
   "cell_type": "code",
   "execution_count": 89,
   "metadata": {},
   "outputs": [],
   "source": [
    "for k in fpr_tprs:\n",
    "    fpr_tprs[k] = (fpr_tprs[k][0].tolist(),fpr_tprs[k][1].tolist())\n",
    "with open('fpr_tprs.json', 'w') as fp:\n",
    "    json.dump(fpr_tprs, fp)"
   ]
  },
  {
   "cell_type": "code",
   "execution_count": 90,
   "metadata": {},
   "outputs": [],
   "source": [
    "with open('fpr_tprs.json', 'r') as fp:\n",
    "    fpr_tprs = json.load(fp)"
   ]
  },
  {
   "cell_type": "code",
   "execution_count": 195,
   "metadata": {},
   "outputs": [
    {
     "data": {
      "image/png": "[encoded data removed]",
      "text/plain": [
       "<Figure size 432x288 with 1 Axes>"
      ]
     },
     "metadata": {
      "needs_background": "light"
     },
     "output_type": "display_data"
    }
   ],
   "source": [
    "plt.figure()\n",
    "ax = plt.gca()\n",
    "ax.set_prop_cycle(color=['tab:green', 'tab:cyan', 'tab:orange'] )\n",
    "lw = 2\n",
    "for i in indicators:\n",
    "    plt.plot(\n",
    "        fpr_tprs[i][0],fpr_tprs[i][1],\n",
    "        lw=lw,\n",
    "        label=\"KS\" + i + \"(area = %0.3f)\" % roc_aucs[i],marker= '.',\n",
    "    )\n",
    "    \n",
    "for i in indicators:\n",
    "    plt.plot(\n",
    "        th_fpr_tprs[i][0],th_fpr_tprs[i][1],\n",
    "        lw=lw,\n",
    "        label=i + \"(area = %0.3f)\" % th_roc_aucs[i],\n",
    "    )\n",
    "    \n",
    "plt.plot([0, 1], [0, 1], color=\"navy\", lw=lw, linestyle=\"--\")\n",
    "plt.xlim([0.0, 1.0])\n",
    "plt.ylim([0.0, 1.05])\n",
    "plt.xlabel(\"False Positive Rate\")\n",
    "plt.ylabel(\"True Positive Rate\")\n",
    "plt.title(\"Receiver operating characteristic\")\n",
    "plt.legend(loc=\"lower right\")\n",
    "plt.show()"
   ]
  },
  {
   "cell_type": "markdown",
   "metadata": {},
   "source": [
    "# Time consumption"
   ]
  },
  {
   "cell_type": "code",
   "execution_count": 35,
   "metadata": {},
   "outputs": [],
   "source": [
    "import time\n",
    "import json"
   ]
  },
  {
   "cell_type": "code",
   "execution_count": 36,
   "metadata": {},
   "outputs": [],
   "source": [
    "indicators = ['uncertainty','MSP','energy']\n",
    "batch_sizes = [1,2,4,8,16,32,64,128,256,512]"
   ]
  },
  {
   "cell_type": "code",
   "execution_count": 8,
   "metadata": {},
   "outputs": [],
   "source": [
    "def ood_uncertain(x):\n",
    "    return entropy(softmax(x, axis=-1), axis=-1)\n",
    "\n",
    "def ood_MSP(x):\n",
    "    return -softmax(x, axis=-1).max(axis=-1)[0]\n",
    "\n",
    "def ood_OE(x):\n",
    "    return x.mean(-1) - logsumexp(x, axis=-1)\n",
    "\n",
    "def ood_energy(x, temperature = 1.):\n",
    "    return - temperature*logsumexp(x/temperature, axis=-1)\n",
    "\n",
    "def ood_func(score):\n",
    "    if score == 'MSP':\n",
    "        return ood_MSP\n",
    "    elif score == 'OE':\n",
    "        return ood_OE\n",
    "    elif score == 'energy':\n",
    "        return ood_energy\n",
    "\n",
    "    return ood_uncertain"
   ]
  },
  {
   "cell_type": "code",
   "execution_count": 9,
   "metadata": {},
   "outputs": [
    {
     "name": "stderr",
     "output_type": "stream",
     "text": [
      "100%|██████████| 3/3 [1:15:56<00:00, 1518.98s/it]\n"
     ]
    }
   ],
   "source": [
    "ks_total_time = {}\n",
    "\n",
    "for i in tqdm(range(len(indicators))):\n",
    "    \n",
    "    detector = drift_detection(ref_logist, 0.05, method='KSDrift',indicator = indicators[i], temperature = 1.)\n",
    "    ks_total_time[indicators[i]] = []\n",
    "    \n",
    "    for j in range(len(batch_sizes)):\n",
    "        \n",
    "        batch_size = batch_sizes[j]\n",
    "        ks_total_time[indicators[i]].append(0)\n",
    "            \n",
    "        for k in range(len(iid_logist)//batch_size):\n",
    "            logist = np.squeeze(iid_logist[k*batch_size:(k + 1)*batch_size], axis=1)\n",
    "            start = time.time()\n",
    "            #Exclude data transfer time\n",
    "            result = detector.get_result(logist)['is_drift']\n",
    "            \n",
    "            ks_total_time[indicators[i]][j] += (time.time() - start)\n",
    "        \n",
    "        for k in range(len(ood_logist)//batch_size):\n",
    "            logist = np.squeeze(ood_logist[k*batch_size:(k + 1)*batch_size], axis=1)\n",
    "            start = time.time()\n",
    "            #Exclude data transfer time\n",
    "            result = detector.get_result(logist)['is_drift']\n",
    "            \n",
    "            ks_total_time[indicators[i]][j] += (time.time() - start)\n",
    "            \n",
    "        \n",
    "        num_img = (len(iid_logist)//batch_size + len(ood_logist)//batch_size)*batch_size\n",
    "    \n",
    "        ks_total_time[indicators[i]][j] = ks_total_time[indicators[i]][j] * 1000000/num_img"
   ]
  },
  {
   "cell_type": "code",
   "execution_count": 10,
   "metadata": {},
   "outputs": [
    {
     "name": "stderr",
     "output_type": "stream",
     "text": [
      "100%|██████████| 3/3 [21:26<00:00, 428.75s/it]\n"
     ]
    }
   ],
   "source": [
    "th_total_time = {}\n",
    "for i in tqdm(range(len(indicators))):\n",
    "    \n",
    "    th_total_time[indicators[i]] = []\n",
    "    oodscore = ood_func(indicators[i])\n",
    "    \n",
    "    for j in range(len(batch_sizes)):\n",
    "        \n",
    "        batch_size = batch_sizes[j]\n",
    "        th_total_time[indicators[i]].append(0)\n",
    "\n",
    "        for k in range(len(iid_logist)//batch_size):\n",
    "            logist = np.squeeze(iid_logist[k*batch_size:(k + 1)*batch_size], axis=1)\n",
    "            \n",
    "            start = time.time()\n",
    "            #Exclude data transfer time\n",
    "            score = oodscore(logist)\n",
    "            \n",
    "            th_total_time[indicators[i]][j] += (time.time() - start)\n",
    "        \n",
    "        for k in range(len(ood_logist)//batch_size):\n",
    "            logist = np.squeeze(ood_logist[k*batch_size:(k + 1)*batch_size], axis=1)\n",
    "            \n",
    "            start = time.time()\n",
    "            #Exclude data transfer time\n",
    "            score = oodscore(logist)\n",
    "            \n",
    "            th_total_time[indicators[i]][j] +=  (time.time() - start)\n",
    "            \n",
    "        \n",
    "        num_img = (len(iid_logist)//batch_size + len(ood_logist)//batch_size)*batch_size\n",
    "        \n",
    "        th_total_time[indicators[i]][j] = th_total_time[indicators[i]][j]*1000000/num_img"
   ]
  },
  {
   "cell_type": "code",
   "execution_count": 15,
   "metadata": {},
   "outputs": [],
   "source": [
    "with open(\"ks_time.json\", \"w\") as outfile:\n",
    "    json.dump(ks_total_time, outfile)"
   ]
  },
  {
   "cell_type": "code",
   "execution_count": 16,
   "metadata": {},
   "outputs": [],
   "source": [
    "with open(\"th_time.json\", \"w\") as outfile:\n",
    "    json.dump(th_total_time, outfile)"
   ]
  },
  {
   "cell_type": "code",
   "execution_count": 49,
   "metadata": {},
   "outputs": [],
   "source": [
    "with open(\"th_time.json\", \"r\") as outfile:\n",
    "    th_total_time = json.load(outfile)\n",
    "    \n",
    "with open(\"ks_time.json\", \"r\") as outfile:\n",
    "    ks_total_time = json.load(outfile)"
   ]
  },
  {
   "cell_type": "code",
   "execution_count": 38,
   "metadata": {},
   "outputs": [],
   "source": [
    "t = 0\n",
    "# calclulate the ref_logists\n",
    "for inputs, labels in ref_dl:\n",
    "    inputs = inputs.to(device)\n",
    "    with torch.no_grad():\n",
    "        outputs = model(inputs)\n",
    "        start = time.time()\n",
    "        outputs = outputs.cpu()\n",
    "        t += (time.time() - start)\n",
    "    torch.cuda.empty_cache()\n",
    "t = t*(1000000/len(ref_dl))"
   ]
  },
  {
   "cell_type": "code",
   "execution_count": 45,
   "metadata": {},
   "outputs": [
    {
     "data": {
      "text/plain": [
       "41.63622856140137"
      ]
     },
     "execution_count": 45,
     "metadata": {},
     "output_type": "execute_result"
    }
   ],
   "source": [
    "t"
   ]
  },
  {
   "cell_type": "code",
   "execution_count": 54,
   "metadata": {},
   "outputs": [],
   "source": [
    "for i in indicators:\n",
    "    ks_total_time[i] = [t + j for j in ks_total_time[i]]\n",
    "    th_total_time[i] = [t + j for j in th_total_time[i]]"
   ]
  },
  {
   "cell_type": "code",
   "execution_count": 62,
   "metadata": {},
   "outputs": [
    {
     "data": {
      "image/png": "[encoded data removed]",
      "text/plain": [
       "<Figure size 432x288 with 1 Axes>"
      ]
     },
     "metadata": {
      "needs_background": "light"
     },
     "output_type": "display_data"
    }
   ],
   "source": [
    "import matplotlib.pyplot as plt\n",
    "import numpy as np\n",
    "import matplotlib.ticker as ticker\n",
    "\n",
    "\n",
    "x = [1,2,4,8,16,32,64,128,256,512]\n",
    "\n",
    "ax = plt.gca()\n",
    "ax.set_prop_cycle(color=['tab:green', 'tab:cyan', 'tab:orange'] )\n",
    "ax.set_xscale('log', base=2)\n",
    "ax.xaxis.set_major_formatter(ticker.ScalarFormatter())\n",
    "ax.set_yscale('log', base=10)\n",
    "ax.set_yticks([50,100,900])\n",
    "ax.yaxis.set_major_formatter(ticker.ScalarFormatter())\n",
    "\n",
    "\n",
    "\n",
    "for i in indicators:\n",
    "    plt.plot(x, ks_total_time[i], '-*', label=\"KS\" + i)\n",
    "    \n",
    "for i in indicators:\n",
    "    plt.plot(x, th_total_time[i], '-o', label=i)\n",
    "\n",
    "plt.legend(loc=\"upper right\")\n",
    "plt.xlabel(\"Batch Size\")\n",
    "plt.ylabel(\"Average Latency per Image (microseconds)\")\n",
    "plt.show()"
   ]
  },
  {
   "cell_type": "code",
   "execution_count": 31,
   "metadata": {},
   "outputs": [],
   "source": [
    "#Data transfer time excluded - lets try to include and measure`"
   ]
  }
 ],
 "metadata": {
  "kernelspec": {
   "display_name": "Python 3",
   "language": "python",
   "name": "python3"
  },
  "language_info": {
   "codemirror_mode": {
    "name": "ipython",
    "version": 3
   },
   "file_extension": ".py",
   "mimetype": "text/x-python",
   "name": "python",
   "nbconvert_exporter": "python",
   "pygments_lexer": "ipython3",
   "version": "3.8.8"
  }
 },
 "nbformat": 4,
 "nbformat_minor": 4
}
